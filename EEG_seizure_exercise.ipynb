{
 "cells": [
  {
   "cell_type": "markdown",
   "metadata": {},
   "source": [
    "# Biosignal Analytics 2022\n",
    "## EEG seizure detection\n",
    "\n",
    "- Lauri Orava, 516761, laorav@utu.fi\n",
    "- Emilia Kalliokoski, 2100413, emamka@utu.fi"
   ]
  },
  {
   "cell_type": "code",
   "execution_count": 9,
   "metadata": {},
   "outputs": [],
   "source": [
    "import pandas as pd\n",
    "import numpy as np\n",
    "import os\n",
    "import glob\n",
    "import matplotlib.pyplot as plt"
   ]
  },
  {
   "cell_type": "code",
   "execution_count": 10,
   "metadata": {},
   "outputs": [],
   "source": [
    "PATH_ns = os.path.join(os.getcwd(), 'Data', 'nonseizure')\n",
    "PATH_s = os.path.join(os.getcwd(), 'Data', 'seizure')\n",
    "\n",
    "raw_data_ns = []\n",
    "raw_data_s = []\n",
    "\n",
    "for file in glob.glob((PATH_ns+\"/*.csv\")):\n",
    "    data = pd.read_csv(file)\n",
    "    raw_data_ns.append(data)\n",
    "\n",
    "for file in glob.glob((PATH_s+\"/*.csv\")):\n",
    "    data = pd.read_csv(file)\n",
    "    raw_data_s.append(data)"
   ]
  },
  {
   "cell_type": "code",
   "execution_count": 11,
   "metadata": {},
   "outputs": [
    {
     "name": "stdout",
     "output_type": "stream",
     "text": [
      "400\n",
      "339\n"
     ]
    }
   ],
   "source": [
    "print(len(raw_data_ns))\n",
    "print(len(raw_data_s))"
   ]
  }
 ],
 "metadata": {
  "interpreter": {
   "hash": "21bb03b1eec8fe3c397084fd560e8e0e40e2dd96ebc4a852c598805d6ad63635"
  },
  "kernelspec": {
   "display_name": "Python 3.10.0 64-bit",
   "language": "python",
   "name": "python3"
  },
  "language_info": {
   "codemirror_mode": {
    "name": "ipython",
    "version": 3
   },
   "file_extension": ".py",
   "mimetype": "text/x-python",
   "name": "python",
   "nbconvert_exporter": "python",
   "pygments_lexer": "ipython3",
   "version": "3.8.8"
  },
  "orig_nbformat": 4
 },
 "nbformat": 4,
 "nbformat_minor": 2
}
