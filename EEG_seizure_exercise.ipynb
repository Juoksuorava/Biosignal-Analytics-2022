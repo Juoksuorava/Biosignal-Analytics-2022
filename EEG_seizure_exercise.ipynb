{
 "cells": [
  {
   "cell_type": "markdown",
   "metadata": {},
   "source": [
    "# Biosignal Analytics 2022\n",
    "## EEG seizure detection\n",
    "\n",
    "- Lauri Orava, 516761, laorav@utu.fi\n",
    "- Emilia Kalliokoski, 2100413, emamka@utu.fi"
   ]
  },
  {
   "cell_type": "code",
   "execution_count": null,
   "metadata": {},
   "outputs": [],
   "source": []
  }
 ],
 "metadata": {
  "language_info": {
   "name": "python"
  },
  "orig_nbformat": 4
 },
 "nbformat": 4,
 "nbformat_minor": 2
}
